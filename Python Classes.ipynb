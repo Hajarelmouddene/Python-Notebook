{
 "cells": [
  {
   "cell_type": "markdown",
   "id": "027f3e87",
   "metadata": {},
   "source": [
    "## Defining a class\n"
   ]
  },
  {
   "cell_type": "markdown",
   "id": "49bc8376",
   "metadata": {},
   "source": [
    "### What is class?\n",
    "\n",
    "A class couples state and functionality (data and actions). It's an object constructor.\n",
    "\n",
    "All built-in data structures in Python are classes.\n",
    "\n",
    "list, dict, tuple, int, str, set, and bool are all classes (not functions)\n",
    "\n"
   ]
  },
  {
   "cell_type": "code",
   "execution_count": 1,
   "id": "994712b8",
   "metadata": {},
   "outputs": [
    {
     "data": {
      "text/plain": [
       "str"
      ]
     },
     "execution_count": 1,
     "metadata": {},
     "output_type": "execute_result"
    }
   ],
   "source": [
    "name = \"Hajar El Mouddene\"\n",
    "\n",
    "type(name)"
   ]
  },
  {
   "cell_type": "code",
   "execution_count": 6,
   "id": "9a17ec10",
   "metadata": {},
   "outputs": [
    {
     "data": {
      "text/plain": [
       "int"
      ]
     },
     "execution_count": 6,
     "metadata": {},
     "output_type": "execute_result"
    }
   ],
   "source": [
    "x = 5\n",
    "\n",
    "type(x)"
   ]
  },
  {
   "cell_type": "code",
   "execution_count": 3,
   "id": "79cb6fab",
   "metadata": {},
   "outputs": [
    {
     "data": {
      "text/plain": [
       "list"
      ]
     },
     "execution_count": 3,
     "metadata": {},
     "output_type": "execute_result"
    }
   ],
   "source": [
    "ids = [1, 2, 4]\n",
    "type(ids)"
   ]
  },
  {
   "cell_type": "markdown",
   "id": "01791cfb",
   "metadata": {},
   "source": [
    "Many built-in functions like enumerate are classes as well."
   ]
  },
  {
   "cell_type": "code",
   "execution_count": 27,
   "id": "b93b7fd7",
   "metadata": {},
   "outputs": [
    {
     "data": {
      "text/plain": [
       "<enumerate at 0x7fb828453440>"
      ]
     },
     "execution_count": 27,
     "metadata": {},
     "output_type": "execute_result"
    }
   ],
   "source": [
    "enumerate(ids)"
   ]
  },
  {
   "cell_type": "code",
   "execution_count": 28,
   "id": "c3ad48b6",
   "metadata": {},
   "outputs": [
    {
     "data": {
      "text/plain": [
       "enumerate"
      ]
     },
     "execution_count": 28,
     "metadata": {},
     "output_type": "execute_result"
    }
   ],
   "source": [
    "type(enumerate(ids))"
   ]
  },
  {
   "cell_type": "markdown",
   "id": "209a2066",
   "metadata": {},
   "source": [
    "The class keyword declares that we are building a class."
   ]
  },
  {
   "cell_type": "code",
   "execution_count": 29,
   "id": "9a87a51c",
   "metadata": {},
   "outputs": [],
   "source": [
    "class Car:\n",
    "    def __init__(self, color, price, discount):\n",
    "        self.color = color\n",
    "        self.price = price\n",
    "        self.discount = discount\n",
    "        \n",
    "    def final_price(self):\n",
    "        return self.price - self.discount"
   ]
  },
  {
   "cell_type": "markdown",
   "id": "ce57ae43",
   "metadata": {},
   "source": [
    "### What is self?"
   ]
  },
  {
   "cell_type": "markdown",
   "id": "48410be7",
   "metadata": {},
   "source": [
    "It is not a keyword in python (it can be replaced by any other word, although not accordance with best practice). It is the first argument in any method in Python. It must be provided when creating our own method, but it should not be provided when calling a class (myaccount) or when calling a method (account_balance)"
   ]
  },
  {
   "cell_type": "code",
   "execution_count": 100,
   "id": "de311e14",
   "metadata": {},
   "outputs": [
    {
     "data": {
      "text/plain": [
       "10"
      ]
     },
     "execution_count": 100,
     "metadata": {},
     "output_type": "execute_result"
    }
   ],
   "source": [
    "class BankAccount:\n",
    "    \n",
    "    def __init__(self, name, credits, debits):\n",
    "        self.name = name\n",
    "        self.credits = credits\n",
    "        self.debits = debits\n",
    "        \n",
    "    def account_balance(self):\n",
    "        return self.credits - self.debits\n",
    "    \n",
    "myaccount = BankAccount(\"Hajar\", 30, 20)\n",
    "    \n",
    "myaccount.account_balance()"
   ]
  },
  {
   "cell_type": "markdown",
   "id": "898948fd",
   "metadata": {},
   "source": [
    "What happens if we delete self?\n"
   ]
  },
  {
   "cell_type": "code",
   "execution_count": 101,
   "id": "368e9b93",
   "metadata": {},
   "outputs": [
    {
     "ename": "TypeError",
     "evalue": "__init__() takes 3 positional arguments but 4 were given",
     "output_type": "error",
     "traceback": [
      "\u001b[0;31m---------------------------------------------------------------------------\u001b[0m",
      "\u001b[0;31mTypeError\u001b[0m                                 Traceback (most recent call last)",
      "\u001b[0;32m<ipython-input-101-df0635a3a296>\u001b[0m in \u001b[0;36m<module>\u001b[0;34m\u001b[0m\n\u001b[1;32m      9\u001b[0m         \u001b[0;32mreturn\u001b[0m \u001b[0mself\u001b[0m\u001b[0;34m.\u001b[0m\u001b[0mcredits\u001b[0m \u001b[0;34m-\u001b[0m \u001b[0mself\u001b[0m\u001b[0;34m.\u001b[0m\u001b[0mdebits\u001b[0m\u001b[0;34m\u001b[0m\u001b[0;34m\u001b[0m\u001b[0m\n\u001b[1;32m     10\u001b[0m \u001b[0;34m\u001b[0m\u001b[0m\n\u001b[0;32m---> 11\u001b[0;31m \u001b[0mmyaccount\u001b[0m \u001b[0;34m=\u001b[0m \u001b[0mBankAccount\u001b[0m\u001b[0;34m(\u001b[0m\u001b[0;34m\"Hajar\"\u001b[0m\u001b[0;34m,\u001b[0m \u001b[0;36m30\u001b[0m\u001b[0;34m,\u001b[0m \u001b[0;36m20\u001b[0m\u001b[0;34m)\u001b[0m\u001b[0;34m\u001b[0m\u001b[0;34m\u001b[0m\u001b[0m\n\u001b[0m\u001b[1;32m     12\u001b[0m \u001b[0;34m\u001b[0m\u001b[0m\n\u001b[1;32m     13\u001b[0m \u001b[0mmyaccount\u001b[0m\u001b[0;34m.\u001b[0m\u001b[0maccount_balance\u001b[0m\u001b[0;34m(\u001b[0m\u001b[0;34m)\u001b[0m\u001b[0;34m\u001b[0m\u001b[0;34m\u001b[0m\u001b[0m\n",
      "\u001b[0;31mTypeError\u001b[0m: __init__() takes 3 positional arguments but 4 were given"
     ]
    }
   ],
   "source": [
    "class BankAccount:\n",
    "    \n",
    "    def __init__(name, credits, debits):\n",
    "        self.name = name\n",
    "        self.credits = credits\n",
    "        self.debits = debits\n",
    "    \n",
    "    def account_balance():\n",
    "        return self.credits - self.debits\n",
    "    \n",
    "myaccount = BankAccount(\"Hajar\", 30, 20)\n",
    "    \n",
    "myaccount.account_balance()"
   ]
  },
  {
   "cell_type": "markdown",
   "id": "6bb34e83",
   "metadata": {},
   "source": [
    "The init method is execting self as a first argument + the other 3 arguments\n",
    "\n",
    "So what is self? It's a variable that points to the instance of the class that we are  currently working with. Let's use id (a built-in python function) to see this in action. The id function returns a number representing the memory location of an object. "
   ]
  },
  {
   "cell_type": "code",
   "execution_count": 53,
   "id": "2afb158d",
   "metadata": {},
   "outputs": [
    {
     "data": {
      "text/plain": [
       "140428926452736"
      ]
     },
     "execution_count": 53,
     "metadata": {},
     "output_type": "execute_result"
    }
   ],
   "source": [
    "class BankAccount:\n",
    "    \n",
    "    def __init__(self, name, credits, debits):\n",
    "        self.name = name\n",
    "        self.credits = credits\n",
    "        self.debits = debits\n",
    "        \n",
    "    def origin(self):\n",
    "        return id(self)\n",
    "    \n",
    "    def account_balance(self):\n",
    "        return self.credits - self.debits\n",
    "    \n",
    "myaccount = BankAccount(name=\"Hajar\", credits=30, debits=20)\n",
    "    \n",
    "myaccount.origin()"
   ]
  },
  {
   "cell_type": "code",
   "execution_count": 54,
   "id": "6d5cada7",
   "metadata": {},
   "outputs": [
    {
     "data": {
      "text/plain": [
       "140428926452736"
      ]
     },
     "execution_count": 54,
     "metadata": {},
     "output_type": "execute_result"
    }
   ],
   "source": [
    "id(myaccount)"
   ]
  },
  {
   "cell_type": "markdown",
   "id": "c428c685",
   "metadata": {},
   "source": [
    "Notice that the self and our BankAccount instance, i.e.: myaccount, are pointing to the same memory location. Hence, self is a variable that points to the instance of the class that we are working with."
   ]
  },
  {
   "cell_type": "markdown",
   "id": "beecb9de",
   "metadata": {},
   "source": [
    "### The initializer method: __init__: allows the class to accept arguments\n"
   ]
  },
  {
   "cell_type": "markdown",
   "id": "705b4bf8",
   "metadata": {},
   "source": [
    "#### Why is init needed?\n",
    "\n",
    "Let's create a class "
   ]
  },
  {
   "cell_type": "code",
   "execution_count": 59,
   "id": "5555ea6e",
   "metadata": {},
   "outputs": [],
   "source": [
    "class Fruit:\n",
    "    \"\"\"empty class\"\"\""
   ]
  },
  {
   "cell_type": "code",
   "execution_count": 84,
   "id": "4d3807ec",
   "metadata": {},
   "outputs": [
    {
     "data": {
      "text/plain": [
       "('green', 2)"
      ]
     },
     "execution_count": 84,
     "metadata": {},
     "output_type": "execute_result"
    }
   ],
   "source": [
    "apple = Fruit()\n",
    "apple\n",
    "apple.color = \"green\"\n",
    "apple.price = 2\n",
    "apple.color, apple.price"
   ]
  },
  {
   "cell_type": "code",
   "execution_count": 87,
   "id": "27ce266d",
   "metadata": {},
   "outputs": [
    {
     "data": {
      "text/plain": [
       "('yellow', 1)"
      ]
     },
     "execution_count": 87,
     "metadata": {},
     "output_type": "execute_result"
    }
   ],
   "source": [
    "banana = Fruit()\n",
    "banana\n",
    "banana.color = \"yellow\"\n",
    "banana.price = 1\n",
    "banana.color, banana.price"
   ]
  },
  {
   "cell_type": "markdown",
   "id": "00992ad9",
   "metadata": {},
   "source": [
    "Clearly, manually adding attributes to each Fruit object to store data is not an effective approach. \n",
    "\n",
    "A better method: call the Fruit class with arguments to store attributes automatically. Let's try."
   ]
  },
  {
   "cell_type": "code",
   "execution_count": 88,
   "id": "1a6aa89a",
   "metadata": {},
   "outputs": [
    {
     "ename": "TypeError",
     "evalue": "Fruit() takes no arguments",
     "output_type": "error",
     "traceback": [
      "\u001b[0;31m---------------------------------------------------------------------------\u001b[0m",
      "\u001b[0;31mTypeError\u001b[0m                                 Traceback (most recent call last)",
      "\u001b[0;32m<ipython-input-88-cef34fac1031>\u001b[0m in \u001b[0;36m<module>\u001b[0;34m\u001b[0m\n\u001b[0;32m----> 1\u001b[0;31m \u001b[0mcherry\u001b[0m \u001b[0;34m=\u001b[0m \u001b[0mFruit\u001b[0m\u001b[0;34m(\u001b[0m\u001b[0;34m\"red\"\u001b[0m\u001b[0;34m,\u001b[0m \u001b[0;36m3\u001b[0m\u001b[0;34m)\u001b[0m\u001b[0;34m\u001b[0m\u001b[0;34m\u001b[0m\u001b[0m\n\u001b[0m",
      "\u001b[0;31mTypeError\u001b[0m: Fruit() takes no arguments"
     ]
    }
   ],
   "source": [
    "cherry = Fruit(\"red\", 3)"
   ]
  },
  {
   "cell_type": "markdown",
   "id": "c932197f",
   "metadata": {},
   "source": [
    "The error occurs because in order for a class to accept arguments, we need to define the initializer method in this class. \n",
    "\n",
    "Note: as with any method, the first argument is self."
   ]
  },
  {
   "cell_type": "code",
   "execution_count": 90,
   "id": "a10829f8",
   "metadata": {},
   "outputs": [],
   "source": [
    "class Fruit: \n",
    "    def __init__(self, color, price):\n",
    "        self.color = color\n",
    "        self.price = price"
   ]
  },
  {
   "cell_type": "markdown",
   "id": "bea448a3",
   "metadata": {},
   "source": [
    "Calling the class with no arguments causes an error because they are now required."
   ]
  },
  {
   "cell_type": "code",
   "execution_count": 91,
   "id": "1c4d6a93",
   "metadata": {},
   "outputs": [
    {
     "ename": "TypeError",
     "evalue": "__init__() missing 2 required positional arguments: 'color' and 'price'",
     "output_type": "error",
     "traceback": [
      "\u001b[0;31m---------------------------------------------------------------------------\u001b[0m",
      "\u001b[0;31mTypeError\u001b[0m                                 Traceback (most recent call last)",
      "\u001b[0;32m<ipython-input-91-e5e691780cbc>\u001b[0m in \u001b[0;36m<module>\u001b[0;34m\u001b[0m\n\u001b[0;32m----> 1\u001b[0;31m \u001b[0mcherry\u001b[0m \u001b[0;34m=\u001b[0m \u001b[0mFruit\u001b[0m\u001b[0;34m(\u001b[0m\u001b[0;34m)\u001b[0m\u001b[0;34m\u001b[0m\u001b[0;34m\u001b[0m\u001b[0m\n\u001b[0m",
      "\u001b[0;31mTypeError\u001b[0m: __init__() missing 2 required positional arguments: 'color' and 'price'"
     ]
    }
   ],
   "source": [
    "cherry = Fruit()"
   ]
  },
  {
   "cell_type": "code",
   "execution_count": 93,
   "id": "09fd262f",
   "metadata": {},
   "outputs": [
    {
     "data": {
      "text/plain": [
       "('red', 3)"
      ]
     },
     "execution_count": 93,
     "metadata": {},
     "output_type": "execute_result"
    }
   ],
   "source": [
    "cherry = Fruit(\"red\", 3)\n",
    "cherry.color, cherry.price"
   ]
  },
  {
   "cell_type": "markdown",
   "id": "9668b370",
   "metadata": {},
   "source": [
    "Python calls the initializer method every time a class is called. \n",
    "\n",
    "Important: The initializer method does NOT construct the class instance. When a class is called an instance of it is created and then the class' init method is called passing the class instance we have just created as a first argument i.e. self."
   ]
  },
  {
   "cell_type": "markdown",
   "id": "216331d0",
   "metadata": {},
   "source": [
    "## Calling a class"
   ]
  },
  {
   "cell_type": "markdown",
   "id": "e66171df",
   "metadata": {},
   "source": [
    "Now that the Car class is defined, we can call it. We get an object whose type is the class Car. Note: when we call a function we get its return value.\n",
    "\n",
    "Note: Python has overlapping terminology. When we call the Car class:\n",
    "\n",
    "- we are instantiating a new Car instance\n",
    "- we are constructing a new Car object\n",
    "- we are making a Car\n",
    "\n",
    "Car instance = Car object = a Car = an object whose type/class is Car\n",
    "\n",
    "In this example, the \"toyota\" variable is pointing to a Car instance or a Car object"
   ]
  },
  {
   "cell_type": "code",
   "execution_count": 98,
   "id": "eb681dc1",
   "metadata": {},
   "outputs": [
    {
     "name": "stdout",
     "output_type": "stream",
     "text": [
      "<__main__.Car object at 0x7fb8283817c0>\n",
      "<class '__main__.Car'>\n"
     ]
    }
   ],
   "source": [
    "class Car:\n",
    "    def __init__(self, color, price, discount):\n",
    "        self.color = color\n",
    "        self.price = price\n",
    "        self.discount = discount\n",
    "        \n",
    "    def final_price(self):\n",
    "        return self.price - self.discount\n",
    "    \n",
    "toyota = Car(\"black\", 45000, 5000)\n",
    "print(toyota)\n",
    "print(type(toyota))"
   ]
  },
  {
   "cell_type": "markdown",
   "id": "a5381614",
   "metadata": {},
   "source": [
    "Now that we have created an instance of the Car class, we can: \n",
    "\n",
    "1- Get data stored within this instance (attributes)\n",
    "\n",
    "2- Perform actions on this instance (methods)\n"
   ]
  },
  {
   "cell_type": "markdown",
   "id": "ddecbac5",
   "metadata": {},
   "source": [
    "## Attributes: accessing data inside a Car instance"
   ]
  },
  {
   "cell_type": "markdown",
   "id": "77d1ae4c",
   "metadata": {},
   "source": [
    "To access this data, look up attributes using the dot notation. \n"
   ]
  },
  {
   "cell_type": "code",
   "execution_count": 7,
   "id": "a5b0c75a",
   "metadata": {},
   "outputs": [
    {
     "data": {
      "text/plain": [
       "'black'"
      ]
     },
     "execution_count": 7,
     "metadata": {},
     "output_type": "execute_result"
    }
   ],
   "source": [
    "toyota.color"
   ]
  },
  {
   "cell_type": "code",
   "execution_count": 8,
   "id": "89103f5b",
   "metadata": {},
   "outputs": [
    {
     "data": {
      "text/plain": [
       "45000"
      ]
     },
     "execution_count": 8,
     "metadata": {},
     "output_type": "execute_result"
    }
   ],
   "source": [
    "toyota.price"
   ]
  },
  {
   "cell_type": "code",
   "execution_count": 9,
   "id": "ddadf75f",
   "metadata": {},
   "outputs": [
    {
     "data": {
      "text/plain": [
       "5000"
      ]
     },
     "execution_count": 9,
     "metadata": {},
     "output_type": "execute_result"
    }
   ],
   "source": [
    "toyota.discount"
   ]
  },
  {
   "cell_type": "markdown",
   "id": "7c809798",
   "metadata": {},
   "source": [
    "## Methods: performing actions on a Car instance"
   ]
  },
  {
   "cell_type": "markdown",
   "id": "57ab90c2",
   "metadata": {},
   "source": [
    "Methods must be differentiated from functions (this is where the self parameter comes in). Methods are functions that are tied to the class in which they are declared and they operate on instances of that class. Functions are not tied to class instances; they are declared outside of class definitions.\n",
    "\n",
    "Methods can either access or change the data in a class instance.\n",
    "\n",
    "In this example: the final_price method accessed the price and discount attributes to calculate the total price"
   ]
  },
  {
   "cell_type": "code",
   "execution_count": 99,
   "id": "fa4eb7a5",
   "metadata": {},
   "outputs": [
    {
     "data": {
      "text/plain": [
       "40000"
      ]
     },
     "execution_count": 99,
     "metadata": {},
     "output_type": "execute_result"
    }
   ],
   "source": [
    "toyota.final_price()"
   ]
  }
 ],
 "metadata": {
  "kernelspec": {
   "display_name": "Python 3",
   "language": "python",
   "name": "python3"
  },
  "language_info": {
   "codemirror_mode": {
    "name": "ipython",
    "version": 3
   },
   "file_extension": ".py",
   "mimetype": "text/x-python",
   "name": "python",
   "nbconvert_exporter": "python",
   "pygments_lexer": "ipython3",
   "version": "3.9.5"
  }
 },
 "nbformat": 4,
 "nbformat_minor": 5
}
